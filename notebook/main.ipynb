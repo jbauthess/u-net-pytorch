{
 "cells": [
  {
   "cell_type": "code",
   "execution_count": null,
   "metadata": {},
   "outputs": [],
   "source": [
    "\"\"\" Check pytorch installation \"\"\"\n",
    "import torch\n",
    "\n",
    "\n",
    "torch.cuda.is_available()\n"
   ]
  },
  {
   "cell_type": "code",
   "execution_count": null,
   "metadata": {},
   "outputs": [],
   "source": [
    "\"\"\" Train the model on a synthetic dataset composed of squares with different colors \"\"\"\n",
    "import logging\n",
    "\n",
    "import torch\n",
    "\n",
    "from src.model.unet import UNetModel\n",
    "from src.dataset.square_dataset import SquareDataset \n",
    "from src.benchmark.train import train, HyperParameters\n",
    "from src.benchmark.test import test\n",
    "\n",
    "NB_EPOCHS = 100\n",
    "BATCH_SIZE = 2\n",
    "IMG_WIDTH = 204\n",
    "IMG_HEIGHT = 204\n",
    "LEARNING_RATE = 0.001\n",
    "\n",
    "MODEL_PATH = \"./model_dict.pth\"\n",
    "\n",
    "logging.basicConfig(filename=None, filemode=\"w\", level=logging.DEBUG)\n",
    "\n",
    "# select device for computation\n",
    "device = torch.device(\"cuda\" if torch.cuda.is_available() else \"cpu\")\n",
    "print(f\"Selected device : {device}\")\n",
    "\n",
    "# create model\n",
    "model = UNetModel(3, 1)\n",
    "\n",
    "# create datasets\n",
    "nb_images = 100\n",
    "train_dataset = SquareDataset(3, IMG_WIDTH, IMG_HEIGHT, nb_images, 20, 80)\n",
    "validation_dataset = SquareDataset(3, IMG_WIDTH, IMG_HEIGHT, nb_images, 20, 80)\n",
    "hyperparameters = HyperParameters(NB_EPOCHS, BATCH_SIZE, LEARNING_RATE)\n",
    "\n",
    "train(device, model, train_dataset, validation_dataset, hyperparameters)\n",
    "\n",
    "torch.save(model.state_dict(), MODEL_PATH)\n"
   ]
  },
  {
   "cell_type": "code",
   "execution_count": null,
   "metadata": {},
   "outputs": [],
   "source": [
    "\"\"\" test the model on a synthetic dataset composed of squares with different colors \"\"\"\n",
    "model = UNetModel(3, 1).to(device)\n",
    "model.load_state_dict(torch.load(MODEL_PATH, weights_only=True))\n",
    "\n",
    "\n",
    "test(device, model, validation_dataset, verbose=1)\n"
   ]
  },
  {
   "cell_type": "code",
   "execution_count": null,
   "metadata": {},
   "outputs": [],
   "source": []
  }
 ],
 "metadata": {
  "kernelspec": {
   "display_name": ".venv",
   "language": "python",
   "name": "python3"
  },
  "language_info": {
   "codemirror_mode": {
    "name": "ipython",
    "version": 3
   },
   "file_extension": ".py",
   "mimetype": "text/x-python",
   "name": "python",
   "nbconvert_exporter": "python",
   "pygments_lexer": "ipython3",
   "version": "3.12.9"
  }
 },
 "nbformat": 4,
 "nbformat_minor": 2
}
